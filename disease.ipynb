{
  "nbformat": 4,
  "nbformat_minor": 0,
  "metadata": {
    "colab": {
      "name": "disease.ipynb",
      "provenance": [],
      "toc_visible": true,
      "authorship_tag": "ABX9TyOq7F5DSXE/yUUIMV0cdMgG",
      "include_colab_link": true
    },
    "kernelspec": {
      "name": "python3",
      "display_name": "Python 3"
    },
    "language_info": {
      "name": "python"
    }
  },
  "cells": [
    {
      "cell_type": "markdown",
      "metadata": {
        "id": "view-in-github",
        "colab_type": "text"
      },
      "source": [
        "<a href=\"https://colab.research.google.com/github/GODTHOMASZ/Disease-Symptom-Predictor/blob/main/disease.ipynb\" target=\"_parent\"><img src=\"https://colab.research.google.com/assets/colab-badge.svg\" alt=\"Open In Colab\"/></a>"
      ]
    },
    {
      "cell_type": "code",
      "source": [
        "import ipywidgets as widgets\n",
        "import urllib.request as urllib2\n",
        "# If you are using Python 3+, import urllib instead of urllib2\n",
        "import json "
      ],
      "metadata": {
        "id": "kseLbcnpISPK"
      },
      "execution_count": 38,
      "outputs": []
    },
    {
      "cell_type": "code",
      "source": [
        "diseases_list = ['Drug Reaction', 'Malaria', 'Allergy', 'Hypothyroidism', 'Psoriasis', 'GERD', 'Chronic cholestasis', 'hepatitis A', 'Osteoarthristis', '(vertigo) Paroymsal  Positional Vertigo', 'Hypoglycemia', 'Acne', 'Diabetes ', 'Impetigo', 'Hypertension ', 'Peptic ulcer diseae', 'Dimorphic hemmorhoids(piles)', 'Common Cold', 'Chicken pox', 'Cervical spondylosis', 'Hyperthyroidism', 'Urinary tract infection', 'Varicose veins', 'AIDS', 'Paralysis (brain hemorrhage)', 'Typhoid', 'Hepatitis B', 'Fungal infection', 'Hepatitis C', 'Migraine', 'Bronchial Asthma', 'Alcoholic hepatitis', 'Jaundice', 'Hepatitis E', 'Dengue', 'Hepatitis D', 'Heart attack', 'Pneumonia', 'Arthritis', 'Gastroenteritis', 'Tuberculosis']\n",
        "diseases_list.sort()\n",
        "# print (diseases_list)"
      ],
      "metadata": {
        "id": "1z3suAF8YyI1"
      },
      "execution_count": 39,
      "outputs": []
    },
    {
      "cell_type": "code",
      "source": [
        "def top_3_with_confidence(probs):\n",
        "  top_3 = {}\n",
        "  for i in range(0, len(probs) - 1):\n",
        "    if float(probs[i]) > 0.3:\n",
        "      top_3[diseases_list[i]] =  probs[i]\n",
        "  if len(top_3) == 0:\n",
        "      top_3[\"sorry\"] =  \"with the symptoms provided, we cannot make a confident diagnosis. please pick more symptoms.\"\n",
        "\n",
        "  return top_3\n",
        "  "
      ],
      "metadata": {
        "id": "xHpOcjOINfQ7"
      },
      "execution_count": 40,
      "outputs": []
    },
    {
      "cell_type": "code",
      "source": [
        "data =  {\n",
        "\n",
        "        \"Inputs\": {\n",
        "\n",
        "                \"input1\": \n",
        "                {\n",
        "                    \"ColumnNames\": [\"Disease\", \"Symptom_1\", \"Symptom_2\", \"Symptom_3\", \"Symptom_4\", \"Symptom_5\", \"Symptom_6\", \"Symptom_7\", \"Symptom_8\", \"Symptom_9\", \"Symptom_10\", \"Symptom_11\", \"Symptom_12\", \"Symptom_13\", \"Symptom_14\", \"Symptom_15\", \"Symptom_16\", \"Symptom_17\"],\n",
        "                    # только для примера, в самом приложении вместо стрингов должны быть переменные с симптомами (17)\n",
        "                    \"Values\": [ [ \"\", \"itching\", \"skin_rash\", \"nodal_skin_eruptions\", \"fatigue\", \"high_fever\", \"\", \"\", \"\", \"\", \"\", \"\", \"\", \"\", \"\", \"\", \"\", \"\" ]]\n",
        "                    # \"Values\": [ [ \"\", \"cough\", \"\", \"\", \"\", \"\", \"\", \"\", \"\", \"\", \"\", \"\", \"\", \"\", \"\", \"\", \"\", \"\" ]] недостаточно для диагноза \n",
        "                                                                                                                  # с уверенностью хотя бы >30%      \n",
        "                },        },\n",
        "            \"GlobalParameters\": {\n",
        "}\n",
        "    }\n",
        "\n",
        "\n",
        "body = str.encode(json.dumps(data))\n",
        "\n",
        "url = 'https://ussouthcentral.services.azureml.net/workspaces/058ff49c150a439a9ebdfc7d19cda0cf/services/39398b55e317478593e824587eb716b9/execute?api-version=2.0&details=true'\n",
        "api_key = '5WEOs4GoxkpJ2bjkjwcpbtq6+5HFDvUJonSc1N/qdTPHnrq4q9eMnT0gapeVsSpAc5OUkyFS4yNntdBmP6R83A==' # Replace this with the API key for the web service headers = {'Content-Type':'application/json', 'Authorization':('Bearer '+ api_key)}\n",
        "headers = {'Content-Type':'application/json', 'Authorization':('Bearer '+ api_key)}\n",
        "\n",
        "req = urllib2.Request(url, body, headers) \n",
        "\n",
        "try:\n",
        "    response = urllib2.urlopen(req)\n",
        "\n",
        "    # If you are using Python 3+, replace urllib2 with urllib.request in the above code:\n",
        "    # req = urllib.request.Request(url, body, headers) \n",
        "    # response = urllib.request.urlopen(req)\n",
        "\n",
        "    result = response.read().decode('UTF-8')\n",
        "    json_obj = json.load(urllib2.urlopen(req))\n",
        "    print(top_3_with_confidence(json_obj['Results']['output1']['value']['Values'][0]))\n",
        "    # return (json_obj['Results'])\n",
        "    \n",
        "except urllib2.HTTPError as error:\n",
        "    print(\"The request failed with status code: \" + str(error.code))\n",
        "\n",
        "    # Print the headers - they include the requert ID and the timestamp, which are useful for debugging the failure\n",
        "    print(error.info())\n",
        "\n",
        "    print(json.loads(error.read()))                 "
      ],
      "metadata": {
        "id": "-1kU7K86GQCs",
        "colab": {
          "base_uri": "https://localhost:8080/"
        },
        "outputId": "9138f88e-6dad-492e-9460-c65b67fb2625"
      },
      "execution_count": 41,
      "outputs": [
        {
          "output_type": "stream",
          "name": "stdout",
          "text": [
            "{'Drug Reaction': '0.315909090909091', 'Fungal infection': '0.309090909090909'}\n"
          ]
        }
      ]
    }
  ]
}